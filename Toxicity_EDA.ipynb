{
 "cells": [
  {
   "cell_type": "markdown",
   "metadata": {
    "_cell_guid": "9e3ecb2c-0158-4d7a-bdcb-0493fd5e6898",
    "_uuid": "c31fc7cac6189c76280bb3928bb59b838a39674b"
   },
   "source": [
    "# Toxicity EDA: Understanding Label Distribution and Correlation"
   ]
  },
  {
   "cell_type": "markdown",
   "metadata": {
    "_cell_guid": "f38c734e-556f-40e5-a13b-c1ca5f3ac549",
    "_uuid": "c6eb7848c700adf751f67ceffc251b1d2dca7fae"
   },
   "source": [
    "This EDA is focused on building a basic understanding of the data. What does it look like? What are the label distributions? How are different labels correlated with each other?\n",
    "\n",
    "Some pieces of code were copied and/or inspired by another other great EDA: https://www.kaggle.com/jagangupta/stop-the-s-toxic-comments-eda"
   ]
  },
  {
   "cell_type": "code",
   "execution_count": 3,
   "metadata": {
    "_cell_guid": "d07e7aa0-35ea-46d9-ac5b-e122940c15d6",
    "_uuid": "b7bf205227a84489bf93b3dd0f8437998859f474"
   },
   "outputs": [],
   "source": [
    "# basics\n",
    "import pandas as pd \n",
    "import numpy as np\n",
    "\n",
    "# misc\n",
    "import gc\n",
    "import time\n",
    "import warnings\n",
    "\n",
    "# stats\n",
    "from scipy.misc import imread\n",
    "from scipy import sparse\n",
    "import scipy.stats as ss\n",
    "\n",
    "# visualizations\n",
    "import matplotlib.pyplot as plt\n",
    "import matplotlib.gridspec as gridspec \n",
    "import seaborn as sns\n",
    "from wordcloud import WordCloud ,STOPWORDS\n",
    "from PIL import Image\n",
    "#import matplotlib_venn as venn\n",
    "\n",
    "# nlp\n",
    "import string\n",
    "import re    # regex\n",
    "import nltk\n",
    "from nltk.corpus import stopwords\n",
    "import spacy\n",
    "from nltk import pos_tag\n",
    "from nltk.stem.wordnet import WordNetLemmatizer \n",
    "from nltk.tokenize import word_tokenize\n",
    "\n",
    "# tweet tokenizer does not split at apostophes which is what we want\n",
    "from nltk.tokenize import TweetTokenizer   \n",
    "\n",
    "# feature engineering\n",
    "from sklearn.feature_extraction.text import TfidfVectorizer, CountVectorizer, HashingVectorizer\n",
    "from sklearn.decomposition import TruncatedSVD\n",
    "from sklearn.base import BaseEstimator, ClassifierMixin\n",
    "from sklearn.utils.validation import check_X_y, check_is_fitted\n",
    "from sklearn.linear_model import LogisticRegression\n",
    "from sklearn import metrics\n",
    "from sklearn.metrics import log_loss\n",
    "from sklearn.model_selection import StratifiedKFold\n",
    "from sklearn.model_selection import train_test_split\n",
    "\n",
    "# settings\n",
    "start_time=time.time()\n",
    "color = sns.color_palette()\n",
    "sns.set_style(\"dark\")\n",
    "eng_stopwords = set(stopwords.words(\"english\"))\n",
    "warnings.filterwarnings(\"ignore\")\n",
    "\n",
    "lem = WordNetLemmatizer()\n",
    "tokenizer=TweetTokenizer()\n",
    "\n",
    "%matplotlib inline"
   ]
  },
  {
   "cell_type": "markdown",
   "metadata": {
    "_cell_guid": "6107f157-e922-42ea-bf26-452eee713eee",
    "_uuid": "732682977b5f51e4644b2973e1f794472c0c87e3"
   },
   "source": [
    "What does the data look like?"
   ]
  },
  {
   "cell_type": "code",
   "execution_count": 5,
   "metadata": {
    "_cell_guid": "94e648f9-2d60-4e2d-be46-6d8c4de6aca0",
    "_uuid": "70453d7534e150fea113cd5102ba95308a101d82"
   },
   "outputs": [
    {
     "data": {
      "text/html": [
       "<div>\n",
       "<style>\n",
       "    .dataframe thead tr:only-child th {\n",
       "        text-align: right;\n",
       "    }\n",
       "\n",
       "    .dataframe thead th {\n",
       "        text-align: left;\n",
       "    }\n",
       "\n",
       "    .dataframe tbody tr th {\n",
       "        vertical-align: top;\n",
       "    }\n",
       "</style>\n",
       "<table border=\"1\" class=\"dataframe\">\n",
       "  <thead>\n",
       "    <tr style=\"text-align: right;\">\n",
       "      <th></th>\n",
       "      <th>id</th>\n",
       "      <th>comment_text</th>\n",
       "      <th>toxic</th>\n",
       "      <th>severe_toxic</th>\n",
       "      <th>obscene</th>\n",
       "      <th>threat</th>\n",
       "      <th>insult</th>\n",
       "      <th>identity_hate</th>\n",
       "    </tr>\n",
       "  </thead>\n",
       "  <tbody>\n",
       "    <tr>\n",
       "      <th>0</th>\n",
       "      <td>0000997932d777bf</td>\n",
       "      <td>Explanation\\nWhy the edits made under my usern...</td>\n",
       "      <td>0</td>\n",
       "      <td>0</td>\n",
       "      <td>0</td>\n",
       "      <td>0</td>\n",
       "      <td>0</td>\n",
       "      <td>0</td>\n",
       "    </tr>\n",
       "    <tr>\n",
       "      <th>1</th>\n",
       "      <td>000103f0d9cfb60f</td>\n",
       "      <td>D'aww! He matches this background colour I'm s...</td>\n",
       "      <td>0</td>\n",
       "      <td>0</td>\n",
       "      <td>0</td>\n",
       "      <td>0</td>\n",
       "      <td>0</td>\n",
       "      <td>0</td>\n",
       "    </tr>\n",
       "    <tr>\n",
       "      <th>2</th>\n",
       "      <td>000113f07ec002fd</td>\n",
       "      <td>Hey man, I'm really not trying to edit war. It...</td>\n",
       "      <td>0</td>\n",
       "      <td>0</td>\n",
       "      <td>0</td>\n",
       "      <td>0</td>\n",
       "      <td>0</td>\n",
       "      <td>0</td>\n",
       "    </tr>\n",
       "    <tr>\n",
       "      <th>3</th>\n",
       "      <td>0001b41b1c6bb37e</td>\n",
       "      <td>\"\\nMore\\nI can't make any real suggestions on ...</td>\n",
       "      <td>0</td>\n",
       "      <td>0</td>\n",
       "      <td>0</td>\n",
       "      <td>0</td>\n",
       "      <td>0</td>\n",
       "      <td>0</td>\n",
       "    </tr>\n",
       "    <tr>\n",
       "      <th>4</th>\n",
       "      <td>0001d958c54c6e35</td>\n",
       "      <td>You, sir, are my hero. Any chance you remember...</td>\n",
       "      <td>0</td>\n",
       "      <td>0</td>\n",
       "      <td>0</td>\n",
       "      <td>0</td>\n",
       "      <td>0</td>\n",
       "      <td>0</td>\n",
       "    </tr>\n",
       "  </tbody>\n",
       "</table>\n",
       "</div>"
      ],
      "text/plain": [
       "                 id                                       comment_text  toxic  \\\n",
       "0  0000997932d777bf  Explanation\\nWhy the edits made under my usern...      0   \n",
       "1  000103f0d9cfb60f  D'aww! He matches this background colour I'm s...      0   \n",
       "2  000113f07ec002fd  Hey man, I'm really not trying to edit war. It...      0   \n",
       "3  0001b41b1c6bb37e  \"\\nMore\\nI can't make any real suggestions on ...      0   \n",
       "4  0001d958c54c6e35  You, sir, are my hero. Any chance you remember...      0   \n",
       "\n",
       "   severe_toxic  obscene  threat  insult  identity_hate  \n",
       "0             0        0       0       0              0  \n",
       "1             0        0       0       0              0  \n",
       "2             0        0       0       0              0  \n",
       "3             0        0       0       0              0  \n",
       "4             0        0       0       0              0  "
      ]
     },
     "execution_count": 5,
     "metadata": {},
     "output_type": "execute_result"
    }
   ],
   "source": [
    "train = pd.read_csv('train.csv')\n",
    "test = pd.read_csv('test.csv')\n",
    "\n",
    "train.head()"
   ]
  },
  {
   "cell_type": "markdown",
   "metadata": {
    "_cell_guid": "7c0419ad-3579-42fd-98e6-54eaf1356fb3",
    "_uuid": "bf28d960b04b88a01ea5eb8ba022e7a96d9e8bcf"
   },
   "source": [
    "The training data consists of a comment_text (string) object and various types of BINARY toxicity labels. This is a key point, since our solutions will generate a probability DISTRIBUTION aimed at maximizing the ROC-AUC (or log-loss when it was the evaluation metric earlier in the competition).\n",
    "\n",
    "There are almost 160,000 data points. A lot, but not a ton.\n",
    "\n",
    "The labels are:  toxic, severe_toxic, obscene, threat, insult, and identity_hate.  Some of these labels seem to be objectively straightfoward to identify:  hate speech, insults, threats, and obscenities. But toxic and severe_toxic is a little grey and more subjective. What exactly is toxicity? What determines whether toxicity is severe? Why would something be labelled hate speech or insulting but not toxic? More on this later, when we examine the co-occurence matrices. "
   ]
  },
  {
   "cell_type": "code",
   "execution_count": 6,
   "metadata": {
    "_cell_guid": "0b252958-aa96-4442-ac88-44d5419d7761",
    "_uuid": "2aac3b71c8c536230e630a50991257b8121a6191"
   },
   "outputs": [
    {
     "name": "stdout",
     "output_type": "stream",
     "text": [
      "<class 'pandas.core.frame.DataFrame'>\n",
      "RangeIndex: 159571 entries, 0 to 159570\n",
      "Data columns (total 8 columns):\n",
      "id               159571 non-null object\n",
      "comment_text     159571 non-null object\n",
      "toxic            159571 non-null int64\n",
      "severe_toxic     159571 non-null int64\n",
      "obscene          159571 non-null int64\n",
      "threat           159571 non-null int64\n",
      "insult           159571 non-null int64\n",
      "identity_hate    159571 non-null int64\n",
      "dtypes: int64(6), object(2)\n",
      "memory usage: 9.7+ MB\n"
     ]
    }
   ],
   "source": [
    "train.info()"
   ]
  },
  {
   "cell_type": "markdown",
   "metadata": {
    "_cell_guid": "c6981cea-7f07-443e-9b03-8ec90a746cae",
    "_uuid": "70ad472af33b82c376b9dc481cc2b0f955a73a77"
   },
   "source": [
    "The basic statistics show that approximately 10% of comments are toxic, 1% are sever toxic, 5% are obscene, 3% are threats, 5% are insults, and 1% are hate speech. Not only do each of the classes suffer from a data imbalance problem, but the degree of imbalance varies substantially between classes. This will be important to keep in mind when evaluating model performance, since it means the optimal \"threshold\" value when looking at recall curves, for example, will be different between the classes."
   ]
  },
  {
   "cell_type": "code",
   "execution_count": 7,
   "metadata": {
    "_cell_guid": "256d7eea-82a9-4f7d-9eef-691793062ac7",
    "_uuid": "2e3f1e1f00403048eb43add83da585c8df5c9c4c"
   },
   "outputs": [
    {
     "data": {
      "text/html": [
       "<div>\n",
       "<style>\n",
       "    .dataframe thead tr:only-child th {\n",
       "        text-align: right;\n",
       "    }\n",
       "\n",
       "    .dataframe thead th {\n",
       "        text-align: left;\n",
       "    }\n",
       "\n",
       "    .dataframe tbody tr th {\n",
       "        vertical-align: top;\n",
       "    }\n",
       "</style>\n",
       "<table border=\"1\" class=\"dataframe\">\n",
       "  <thead>\n",
       "    <tr style=\"text-align: right;\">\n",
       "      <th></th>\n",
       "      <th>toxic</th>\n",
       "      <th>severe_toxic</th>\n",
       "      <th>obscene</th>\n",
       "      <th>threat</th>\n",
       "      <th>insult</th>\n",
       "      <th>identity_hate</th>\n",
       "    </tr>\n",
       "  </thead>\n",
       "  <tbody>\n",
       "    <tr>\n",
       "      <th>count</th>\n",
       "      <td>159571.000000</td>\n",
       "      <td>159571.000000</td>\n",
       "      <td>159571.000000</td>\n",
       "      <td>159571.000000</td>\n",
       "      <td>159571.000000</td>\n",
       "      <td>159571.000000</td>\n",
       "    </tr>\n",
       "    <tr>\n",
       "      <th>mean</th>\n",
       "      <td>0.095844</td>\n",
       "      <td>0.009996</td>\n",
       "      <td>0.052948</td>\n",
       "      <td>0.002996</td>\n",
       "      <td>0.049364</td>\n",
       "      <td>0.008805</td>\n",
       "    </tr>\n",
       "    <tr>\n",
       "      <th>std</th>\n",
       "      <td>0.294379</td>\n",
       "      <td>0.099477</td>\n",
       "      <td>0.223931</td>\n",
       "      <td>0.054650</td>\n",
       "      <td>0.216627</td>\n",
       "      <td>0.093420</td>\n",
       "    </tr>\n",
       "    <tr>\n",
       "      <th>min</th>\n",
       "      <td>0.000000</td>\n",
       "      <td>0.000000</td>\n",
       "      <td>0.000000</td>\n",
       "      <td>0.000000</td>\n",
       "      <td>0.000000</td>\n",
       "      <td>0.000000</td>\n",
       "    </tr>\n",
       "    <tr>\n",
       "      <th>25%</th>\n",
       "      <td>0.000000</td>\n",
       "      <td>0.000000</td>\n",
       "      <td>0.000000</td>\n",
       "      <td>0.000000</td>\n",
       "      <td>0.000000</td>\n",
       "      <td>0.000000</td>\n",
       "    </tr>\n",
       "    <tr>\n",
       "      <th>50%</th>\n",
       "      <td>0.000000</td>\n",
       "      <td>0.000000</td>\n",
       "      <td>0.000000</td>\n",
       "      <td>0.000000</td>\n",
       "      <td>0.000000</td>\n",
       "      <td>0.000000</td>\n",
       "    </tr>\n",
       "    <tr>\n",
       "      <th>75%</th>\n",
       "      <td>0.000000</td>\n",
       "      <td>0.000000</td>\n",
       "      <td>0.000000</td>\n",
       "      <td>0.000000</td>\n",
       "      <td>0.000000</td>\n",
       "      <td>0.000000</td>\n",
       "    </tr>\n",
       "    <tr>\n",
       "      <th>max</th>\n",
       "      <td>1.000000</td>\n",
       "      <td>1.000000</td>\n",
       "      <td>1.000000</td>\n",
       "      <td>1.000000</td>\n",
       "      <td>1.000000</td>\n",
       "      <td>1.000000</td>\n",
       "    </tr>\n",
       "  </tbody>\n",
       "</table>\n",
       "</div>"
      ],
      "text/plain": [
       "               toxic   severe_toxic        obscene         threat  \\\n",
       "count  159571.000000  159571.000000  159571.000000  159571.000000   \n",
       "mean        0.095844       0.009996       0.052948       0.002996   \n",
       "std         0.294379       0.099477       0.223931       0.054650   \n",
       "min         0.000000       0.000000       0.000000       0.000000   \n",
       "25%         0.000000       0.000000       0.000000       0.000000   \n",
       "50%         0.000000       0.000000       0.000000       0.000000   \n",
       "75%         0.000000       0.000000       0.000000       0.000000   \n",
       "max         1.000000       1.000000       1.000000       1.000000   \n",
       "\n",
       "              insult  identity_hate  \n",
       "count  159571.000000  159571.000000  \n",
       "mean        0.049364       0.008805  \n",
       "std         0.216627       0.093420  \n",
       "min         0.000000       0.000000  \n",
       "25%         0.000000       0.000000  \n",
       "50%         0.000000       0.000000  \n",
       "75%         0.000000       0.000000  \n",
       "max         1.000000       1.000000  "
      ]
     },
     "execution_count": 7,
     "metadata": {},
     "output_type": "execute_result"
    }
   ],
   "source": [
    "train.describe()"
   ]
  },
  {
   "cell_type": "markdown",
   "metadata": {
    "_cell_guid": "74a43e85-b8af-49cc-a22d-38a587f9f114",
    "_uuid": "c6053a746b0c6f83fce53957efee2229ab02729a"
   },
   "source": [
    "The train and test distributions are similar in size, this is some good news at least."
   ]
  },
  {
   "cell_type": "code",
   "execution_count": 8,
   "metadata": {
    "_cell_guid": "b97bf002-edca-4a00-9591-e6cae2ba9be8",
    "_uuid": "82841d599a4f03873cb08824a3aff9e1a61f6931"
   },
   "outputs": [
    {
     "name": "stdout",
     "output_type": "stream",
     "text": [
      "       : Train : Test\n",
      "Rows   : 159571 : 153164\n",
      "Perc   : 51     : 49\n"
     ]
    }
   ],
   "source": [
    "nrow_train=train.shape[0]\n",
    "nrow_test=test.shape[0]\n",
    "sum=nrow_train+nrow_test\n",
    "print(\"       : Train : Test\")\n",
    "print(\"Rows   :\",nrow_train,\":\",nrow_test)\n",
    "print(\"Perc   :\",round(nrow_train*100/sum),\"    :\",round(nrow_test*100/sum))"
   ]
  },
  {
   "cell_type": "markdown",
   "metadata": {
    "_cell_guid": "233f9f42-19e4-4032-8856-490fad044299",
    "_uuid": "d19d2d0e5fccd7d0869d70c217fc0fcec937621c"
   },
   "source": [
    "Approximately 22% of the comments have some sort of toxic label."
   ]
  },
  {
   "cell_type": "code",
   "execution_count": 9,
   "metadata": {
    "_cell_guid": "a561a56f-33b3-4b65-a138-14a594f7c40d",
    "_uuid": "bbc22b1c24a6b8ee5f014420cfa6dbf45beb4b1d"
   },
   "outputs": [
    {
     "name": "stdout",
     "output_type": "stream",
     "text": [
      "Total comments =  159571\n",
      "Total clean comments =  143346\n",
      "Total tags = 35098\n"
     ]
    }
   ],
   "source": [
    "x=train.iloc[:,2:].sum()\n",
    "#marking comments without any tags as \"clean\"\n",
    "rowsums=train.iloc[:,2:].sum(axis=1)\n",
    "train['clean']=(rowsums==0)\n",
    "#count number of clean entries\n",
    "train['clean'].sum()\n",
    "print(\"Total comments = \",len(train))\n",
    "print(\"Total clean comments = \",train['clean'].sum())\n",
    "print(\"Total tags =\",x.sum())"
   ]
  },
  {
   "cell_type": "markdown",
   "metadata": {
    "_cell_guid": "79f96cc5-2b40-4cba-9088-f539d744d362",
    "_uuid": "24aa2126c4dd083468fc1251fabf63a6a66dc2b3"
   },
   "source": [
    "There aren't any missing values, that's a problem we don't have to worry about!"
   ]
  },
  {
   "cell_type": "code",
   "execution_count": 10,
   "metadata": {
    "_cell_guid": "2ec44f7d-a602-4c34-9a8f-73179a1b3bd9",
    "_uuid": "32c7cd6cf8b2494b664cacaa8fb2937ac774bd78"
   },
   "outputs": [
    {
     "name": "stdout",
     "output_type": "stream",
     "text": [
      "Check for missing values in Train dataset\n",
      "id               0\n",
      "comment_text     0\n",
      "toxic            0\n",
      "severe_toxic     0\n",
      "obscene          0\n",
      "threat           0\n",
      "insult           0\n",
      "identity_hate    0\n",
      "clean            0\n",
      "dtype: int64\n",
      "Check for missing values in Test dataset\n",
      "id              0\n",
      "comment_text    0\n",
      "dtype: int64\n",
      "filling NA with \"unknown\"\n"
     ]
    }
   ],
   "source": [
    "print(\"Check for missing values in Train dataset\")\n",
    "null_check=train.isnull().sum()\n",
    "print(null_check)\n",
    "print(\"Check for missing values in Test dataset\")\n",
    "null_check=test.isnull().sum()\n",
    "print(null_check)\n",
    "print(\"filling NA with \\\"unknown\\\"\")\n",
    "train[\"comment_text\"].fillna(\"unknown\", inplace=True)\n",
    "test[\"comment_text\"].fillna(\"unknown\", inplace=True)"
   ]
  },
  {
   "cell_type": "markdown",
   "metadata": {
    "_cell_guid": "da4a272d-fcdf-4926-81ee-0768beb3e5f2",
    "_uuid": "a5e9372689ddad163b27418cf92fab692c36b3d1"
   },
   "source": [
    "A plot of the label counts more clearly displays the degree of data imbalance."
   ]
  },
  {
   "cell_type": "code",
   "execution_count": 11,
   "metadata": {
    "_cell_guid": "4e039516-ac0f-4c30-bb1b-692345a4f5c0",
    "_kg_hide-input": false,
    "_kg_hide-output": false,
    "_uuid": "37b7469e0eaa84bdf57503c8a60fb848540f7596"
   },
   "outputs": [
    {
     "data": {
      "image/png": "[encoded data removed]",
      "text/plain": [
       "<matplotlib.figure.Figure at 0x257b6ff7eb8>"
      ]
     },
     "metadata": {},
     "output_type": "display_data"
    }
   ],
   "source": [
    "x=train.iloc[:,2:].sum()\n",
    "\n",
    "fig = plt.figure(figsize=(8,4), dpi=100)\n",
    "axes1 = fig.add_subplot(111);\n",
    "\n",
    "sns.barplot(x.index, x.values, alpha=0.8, ax=axes1)\n",
    "axes1.set_title(\"Label Count per Class\")\n",
    "#axes1.set_ylabel('Number of Occurrences', fontsize=12)\n",
    "#axes1.set_xlabel('Class ', fontsize=12)\n",
    "\n",
    "#adding the text labels\n",
    "rects = axes1.patches\n",
    "labels = x.values\n",
    "for rect, label in zip(rects, labels):\n",
    "    height = rect.get_height()\n",
    "    axes1.text(rect.get_x() + rect.get_width()/2, height + 5, label, ha='center', va='bottom')\n",
    "\n",
    "#axes1.set_ybound([0, 150000])\n",
    "axes1.set_yticklabels([])\n",
    "axes1.set_facecolor('white')\n",
    "\n",
    "plt.show()"
   ]
  },
  {
   "cell_type": "markdown",
   "metadata": {
    "_cell_guid": "c891e128-2c89-4ae0-b687-023acf430eb9",
    "_uuid": "0fa089307da9daa179f5865e5610441f692220df"
   },
   "source": [
    "Around 16,000 comments, or 10%,  have multiple tags. This means that are likely to be correlations between classes, and the optimal models will not perform predictions on a strictly class-by-class basis. This does not matter \"that much\" for this competition, since the evaluation metric is mean column-wise ROC-AUC. In general however, especially if other evaluation metrics are used, it will matter.\n",
    "\n",
    "Also, this means that probabilities do not have to add up to one. So we should use the softmax output in our neural nets, rather than sigmoid."
   ]
  },
  {
   "cell_type": "code",
   "execution_count": 12,
   "metadata": {
    "_cell_guid": "3b3b3e7f-770f-4190-bc5a-faff61d7e5c2",
    "_uuid": "0df1c1bd57bcf93841982dff5c967544af57a376"
   },
   "outputs": [
    {
     "data": {
      "image/png": "[encoded data removed]",
      "text/plain": [
       "<matplotlib.figure.Figure at 0x257b6ff74e0>"
      ]
     },
     "metadata": {},
     "output_type": "display_data"
    }
   ],
   "source": [
    "x=rowsums.value_counts()\n",
    "\n",
    "fig = plt.figure(figsize=(8,4), dpi=100)\n",
    "axes1 = fig.add_subplot(111);\n",
    "\n",
    "sns.barplot(x.index, x.values, alpha=0.8,color=color[2], ax=axes1)\n",
    "axes1.set_title(\"Multiple Tags per Comment\")\n",
    "#axes1.set_ylabel('Number of Occurrences', fontsize=12)\n",
    "axes1.set_xlabel('Number of Tags ', fontsize=12)\n",
    "\n",
    "#adding the text labels\n",
    "rects = axes1.patches\n",
    "labels = x.values\n",
    "for rect, label in zip(rects, labels):\n",
    "    height = rect.get_height()\n",
    "    axes1.text(rect.get_x() + rect.get_width()/2, height + 5, label, ha='center', va='bottom')\n",
    "\n",
    "axes1.set_yticklabels([])\n",
    "axes1.set_facecolor('white')\n",
    "\n",
    "plt.show()"
   ]
  },
  {
   "cell_type": "markdown",
   "metadata": {
    "_cell_guid": "b53ace56-5f48-455a-8917-413b2e0392f0",
    "_uuid": "4a0975384d74675c085b010ea6b81407aa1f281b"
   },
   "source": [
    "The Pearson correlation measures the linear correlation between two variables. Applied to non-continuous binary variables like those here, it is a measure of co-occurance.\n",
    "\n",
    "https://en.wikipedia.org/wiki/Pearson_correlation_coefficient\n",
    "http://algorithmic-worldview.blogspot.com/2009/01/co-occurrence-and-correlation.html"
   ]
  },
  {
   "cell_type": "code",
   "execution_count": 13,
   "metadata": {
    "_cell_guid": "5baa5e12-fa4d-4952-91cf-c9cbd191e4ee",
    "_uuid": "c0e7cfc048a3dc4491c6843d7faace1932b6ef01"
   },
   "outputs": [
    {
     "data": {
      "text/plain": [
       "<matplotlib.axes._subplots.AxesSubplot at 0x257b6fe5fd0>"
      ]
     },
     "execution_count": 13,
     "metadata": {},
     "output_type": "execute_result"
    },
    {
     "data": {
      "image/png": "[encoded data removed]",
      "text/plain": [
       "<matplotlib.figure.Figure at 0x257b70eddd8>"
      ]
     },
     "metadata": {},
     "output_type": "display_data"
    }
   ],
   "source": [
    "temp_df=train.iloc[:,2:]\n",
    "# filter temp by removing clean comments\n",
    "# temp_df=temp_df[~train.clean]\n",
    "\n",
    "corr=temp_df.corr()\n",
    "\n",
    "fig = plt.figure(figsize=(10, 8), dpi=100)\n",
    "axes1 = fig.add_subplot(111);\n",
    "\n",
    "sns.heatmap(corr,\n",
    "            xticklabels=corr.columns.values,\n",
    "            yticklabels=corr.columns.values, annot=True, ax=axes1, vmin=0, vmax=1)"
   ]
  },
  {
   "cell_type": "markdown",
   "metadata": {
    "_cell_guid": "0696af05-0816-4f81-a118-a5b6117adba5",
    "_uuid": "ed5371d43c43edd8daa851f75fd308df9093d12c"
   },
   "source": [
    "Pearson correlation seems to imply relatively strong correlations between the class labeling. Let's take a more detail look at the beahvior by examining the cross-tabulation between the classes.\n",
    "\n",
    "https://pandas.pydata.org/pandas-docs/stable/generated/pandas.crosstab.html"
   ]
  },
  {
   "cell_type": "code",
   "execution_count": 14,
   "metadata": {
    "_cell_guid": "0e9c80c0-a4ab-4581-ad24-ddccb734e738",
    "_uuid": "3896d176c89d61be27143481452c71a659061766",
    "collapsed": true
   },
   "outputs": [],
   "source": [
    "# https://pandas.pydata.org/pandas-docs/stable/style.html\n",
    "def highlight_min(data, color='yellow'):\n",
    "    '''\n",
    "    highlight the maximum in a Series or DataFrame\n",
    "    '''\n",
    "    attr = 'background-color: {}'.format(color)\n",
    "    if data.ndim == 1:  # Series from .apply(axis=0) or axis=1\n",
    "        is_min = data == data.min()\n",
    "        return [attr if v else '' for v in is_min]\n",
    "    else:  # from .apply(axis=None)\n",
    "        is_max = data == data.min().min()\n",
    "        return pd.DataFrame(np.where(is_min, attr, ''),\n",
    "                            index=data.index, columns=data.columns)"
   ]
  },
  {
   "cell_type": "markdown",
   "metadata": {
    "_cell_guid": "ceeb6fbb-5c73-4c56-91a5-f9d4db8489e7",
    "_uuid": "655278e26082236a9a19360394e124be3d7efedb"
   },
   "source": [
    "It looks like the high correlation values are dominated by 0-0 type co-occurances. If a value is marked not 'toxic' it will most likely not be marked with any other label. \n",
    "\n",
    "The actual number of 1-1 type occurances is rather small. Only in the case of 'obscene' and 'insult' is the co-occurance significant. If a value is marked 'toxic' it has an approximatley 50% chance of being marked 'obscene' or 'insulting'. \n",
    "\n",
    "Looking at it from the other direction, if a value is given a non-toxic label, it is very likely to be labelled toxic. All severe_toxic labels are also labelled toxic, thankfully, otherwise we'd have a serious data labelling problem on our hands. However, it is a slight concern that there do exist unclean non-toxic labels. Some clarification on Jigsaw's labeling methodology would be nice (or perhaps this is an example of how Jigsaw can improve their methodology)."
   ]
  },
  {
   "cell_type": "code",
   "execution_count": 15,
   "metadata": {
    "_cell_guid": "021b4b50-4f76-4607-9734-47733d20f2c2",
    "_uuid": "61fcc999862813af808ea05210be78a5dd9ec4b3"
   },
   "outputs": [
    {
     "data": {
      "text/html": [
       "<style  type=\"text/css\" >\n",
       "    #T_59dac47a_3142_11e8_b60b_509a4c47a29frow0_col1 {\n",
       "            background-color:  yellow;\n",
       "        }    #T_59dac47a_3142_11e8_b60b_509a4c47a29frow0_col3 {\n",
       "            background-color:  yellow;\n",
       "        }    #T_59dac47a_3142_11e8_b60b_509a4c47a29frow0_col5 {\n",
       "            background-color:  yellow;\n",
       "        }    #T_59dac47a_3142_11e8_b60b_509a4c47a29frow0_col7 {\n",
       "            background-color:  yellow;\n",
       "        }    #T_59dac47a_3142_11e8_b60b_509a4c47a29frow0_col9 {\n",
       "            background-color:  yellow;\n",
       "        }    #T_59dac47a_3142_11e8_b60b_509a4c47a29frow0_col10 {\n",
       "            background-color:  yellow;\n",
       "        }    #T_59dac47a_3142_11e8_b60b_509a4c47a29frow1_col0 {\n",
       "            background-color:  yellow;\n",
       "        }    #T_59dac47a_3142_11e8_b60b_509a4c47a29frow1_col2 {\n",
       "            background-color:  yellow;\n",
       "        }    #T_59dac47a_3142_11e8_b60b_509a4c47a29frow1_col4 {\n",
       "            background-color:  yellow;\n",
       "        }    #T_59dac47a_3142_11e8_b60b_509a4c47a29frow1_col6 {\n",
       "            background-color:  yellow;\n",
       "        }    #T_59dac47a_3142_11e8_b60b_509a4c47a29frow1_col8 {\n",
       "            background-color:  yellow;\n",
       "        }    #T_59dac47a_3142_11e8_b60b_509a4c47a29frow1_col11 {\n",
       "            background-color:  yellow;\n",
       "        }</style>  \n",
       "<table id=\"T_59dac47a_3142_11e8_b60b_509a4c47a29f\" > \n",
       "<thead>    <tr> \n",
       "        <th class=\"blank level0\" ></th> \n",
       "        <th class=\"col_heading level0 col0\" colspan=2>severe_toxic</th> \n",
       "        <th class=\"col_heading level0 col2\" colspan=2>obscene</th> \n",
       "        <th class=\"col_heading level0 col4\" colspan=2>threat</th> \n",
       "        <th class=\"col_heading level0 col6\" colspan=2>insult</th> \n",
       "        <th class=\"col_heading level0 col8\" colspan=2>identity_hate</th> \n",
       "        <th class=\"col_heading level0 col10\" colspan=2>clean</th> \n",
       "    </tr>    <tr> \n",
       "        <th class=\"index_name level1\" >severe_toxic</th> \n",
       "        <th class=\"col_heading level1 col0\" >0</th> \n",
       "        <th class=\"col_heading level1 col1\" >1</th> \n",
       "        <th class=\"col_heading level1 col2\" >0</th> \n",
       "        <th class=\"col_heading level1 col3\" >1</th> \n",
       "        <th class=\"col_heading level1 col4\" >0</th> \n",
       "        <th class=\"col_heading level1 col5\" >1</th> \n",
       "        <th class=\"col_heading level1 col6\" >0</th> \n",
       "        <th class=\"col_heading level1 col7\" >1</th> \n",
       "        <th class=\"col_heading level1 col8\" >0</th> \n",
       "        <th class=\"col_heading level1 col9\" >1</th> \n",
       "        <th class=\"col_heading level1 col10\" >0</th> \n",
       "        <th class=\"col_heading level1 col11\" >1</th> \n",
       "    </tr>    <tr> \n",
       "        <th class=\"index_name level0\" >toxic</th> \n",
       "        <th class=\"blank\" ></th> \n",
       "        <th class=\"blank\" ></th> \n",
       "        <th class=\"blank\" ></th> \n",
       "        <th class=\"blank\" ></th> \n",
       "        <th class=\"blank\" ></th> \n",
       "        <th class=\"blank\" ></th> \n",
       "        <th class=\"blank\" ></th> \n",
       "        <th class=\"blank\" ></th> \n",
       "        <th class=\"blank\" ></th> \n",
       "        <th class=\"blank\" ></th> \n",
       "        <th class=\"blank\" ></th> \n",
       "        <th class=\"blank\" ></th> \n",
       "    </tr></thead> \n",
       "<tbody>    <tr> \n",
       "        <th id=\"T_59dac47a_3142_11e8_b60b_509a4c47a29f\" class=\"row_heading level0 row0\" >0</th> \n",
       "        <td id=\"T_59dac47a_3142_11e8_b60b_509a4c47a29frow0_col0\" class=\"data row0 col0\" >144277</td> \n",
       "        <td id=\"T_59dac47a_3142_11e8_b60b_509a4c47a29frow0_col1\" class=\"data row0 col1\" >0</td> \n",
       "        <td id=\"T_59dac47a_3142_11e8_b60b_509a4c47a29frow0_col2\" class=\"data row0 col2\" >143754</td> \n",
       "        <td id=\"T_59dac47a_3142_11e8_b60b_509a4c47a29frow0_col3\" class=\"data row0 col3\" >523</td> \n",
       "        <td id=\"T_59dac47a_3142_11e8_b60b_509a4c47a29frow0_col4\" class=\"data row0 col4\" >144248</td> \n",
       "        <td id=\"T_59dac47a_3142_11e8_b60b_509a4c47a29frow0_col5\" class=\"data row0 col5\" >29</td> \n",
       "        <td id=\"T_59dac47a_3142_11e8_b60b_509a4c47a29frow0_col6\" class=\"data row0 col6\" >143744</td> \n",
       "        <td id=\"T_59dac47a_3142_11e8_b60b_509a4c47a29frow0_col7\" class=\"data row0 col7\" >533</td> \n",
       "        <td id=\"T_59dac47a_3142_11e8_b60b_509a4c47a29frow0_col8\" class=\"data row0 col8\" >144174</td> \n",
       "        <td id=\"T_59dac47a_3142_11e8_b60b_509a4c47a29frow0_col9\" class=\"data row0 col9\" >103</td> \n",
       "        <td id=\"T_59dac47a_3142_11e8_b60b_509a4c47a29frow0_col10\" class=\"data row0 col10\" >931</td> \n",
       "        <td id=\"T_59dac47a_3142_11e8_b60b_509a4c47a29frow0_col11\" class=\"data row0 col11\" >143346</td> \n",
       "    </tr>    <tr> \n",
       "        <th id=\"T_59dac47a_3142_11e8_b60b_509a4c47a29f\" class=\"row_heading level0 row1\" >1</th> \n",
       "        <td id=\"T_59dac47a_3142_11e8_b60b_509a4c47a29frow1_col0\" class=\"data row1 col0\" >13699</td> \n",
       "        <td id=\"T_59dac47a_3142_11e8_b60b_509a4c47a29frow1_col1\" class=\"data row1 col1\" >1595</td> \n",
       "        <td id=\"T_59dac47a_3142_11e8_b60b_509a4c47a29frow1_col2\" class=\"data row1 col2\" >7368</td> \n",
       "        <td id=\"T_59dac47a_3142_11e8_b60b_509a4c47a29frow1_col3\" class=\"data row1 col3\" >7926</td> \n",
       "        <td id=\"T_59dac47a_3142_11e8_b60b_509a4c47a29frow1_col4\" class=\"data row1 col4\" >14845</td> \n",
       "        <td id=\"T_59dac47a_3142_11e8_b60b_509a4c47a29frow1_col5\" class=\"data row1 col5\" >449</td> \n",
       "        <td id=\"T_59dac47a_3142_11e8_b60b_509a4c47a29frow1_col6\" class=\"data row1 col6\" >7950</td> \n",
       "        <td id=\"T_59dac47a_3142_11e8_b60b_509a4c47a29frow1_col7\" class=\"data row1 col7\" >7344</td> \n",
       "        <td id=\"T_59dac47a_3142_11e8_b60b_509a4c47a29frow1_col8\" class=\"data row1 col8\" >13992</td> \n",
       "        <td id=\"T_59dac47a_3142_11e8_b60b_509a4c47a29frow1_col9\" class=\"data row1 col9\" >1302</td> \n",
       "        <td id=\"T_59dac47a_3142_11e8_b60b_509a4c47a29frow1_col10\" class=\"data row1 col10\" >15294</td> \n",
       "        <td id=\"T_59dac47a_3142_11e8_b60b_509a4c47a29frow1_col11\" class=\"data row1 col11\" >0</td> \n",
       "    </tr></tbody> \n",
       "</table> "
      ],
      "text/plain": [
       "<pandas.io.formats.style.Styler at 0x257b743edd8>"
      ]
     },
     "execution_count": 15,
     "metadata": {},
     "output_type": "execute_result"
    }
   ],
   "source": [
    "#Crosstab\n",
    "# Since technically a crosstab between all 6 classes is impossible to vizualize, lets take a \n",
    "# look at toxic with other tags\n",
    "main_col=\"toxic\"\n",
    "corr_mats=[]\n",
    "keys=np.delete(temp_df.columns.values, 0)\n",
    "for other_col in keys:\n",
    "    confusion_matrix = pd.crosstab(temp_df[main_col], temp_df[other_col])\n",
    "    corr_mats.append(confusion_matrix)\n",
    "out = pd.concat(corr_mats, axis=1, keys=keys)\n",
    "\n",
    "#cell highlighting\n",
    "out = out.style.apply(highlight_min, axis=0)\n",
    "out"
   ]
  },
  {
   "cell_type": "markdown",
   "metadata": {
    "_uuid": "ce964d12a3bb13ba6d480102587dd71d3e89be8f"
   },
   "source": [
    "Of the comment labelled as \"toxic\", about 12% are also labelled \"severe_toxic\". We could view this as another modeling challenge in and of itself. We also see that of the comments labelled \"severe_toxic\"  around 22% to 30% have other labels."
   ]
  },
  {
   "cell_type": "code",
   "execution_count": 16,
   "metadata": {
    "_cell_guid": "7c67097c-f911-49ea-aaee-58676ec5ee98",
    "_uuid": "f5faf58ade6b3c27776b632376e44af75dfeed3c"
   },
   "outputs": [
    {
     "data": {
      "text/html": [
       "<style  type=\"text/css\" >\n",
       "    #T_5a672e50_3142_11e8_98a7_509a4c47a29frow1_col0 {\n",
       "            background-color:  yellow;\n",
       "        }    #T_5a672e50_3142_11e8_98a7_509a4c47a29frow1_col1 {\n",
       "            background-color:  yellow;\n",
       "        }    #T_5a672e50_3142_11e8_98a7_509a4c47a29frow1_col2 {\n",
       "            background-color:  yellow;\n",
       "        }    #T_5a672e50_3142_11e8_98a7_509a4c47a29frow1_col3 {\n",
       "            background-color:  yellow;\n",
       "        }    #T_5a672e50_3142_11e8_98a7_509a4c47a29frow1_col4 {\n",
       "            background-color:  yellow;\n",
       "        }    #T_5a672e50_3142_11e8_98a7_509a4c47a29frow1_col5 {\n",
       "            background-color:  yellow;\n",
       "        }    #T_5a672e50_3142_11e8_98a7_509a4c47a29frow1_col6 {\n",
       "            background-color:  yellow;\n",
       "        }    #T_5a672e50_3142_11e8_98a7_509a4c47a29frow1_col7 {\n",
       "            background-color:  yellow;\n",
       "        }    #T_5a672e50_3142_11e8_98a7_509a4c47a29frow1_col8 {\n",
       "            background-color:  yellow;\n",
       "        }    #T_5a672e50_3142_11e8_98a7_509a4c47a29frow1_col9 {\n",
       "            background-color:  yellow;\n",
       "        }    #T_5a672e50_3142_11e8_98a7_509a4c47a29frow1_col10 {\n",
       "            background-color:  yellow;\n",
       "        }    #T_5a672e50_3142_11e8_98a7_509a4c47a29frow1_col11 {\n",
       "            background-color:  yellow;\n",
       "        }</style>  \n",
       "<table id=\"T_5a672e50_3142_11e8_98a7_509a4c47a29f\" > \n",
       "<thead>    <tr> \n",
       "        <th class=\"blank level0\" ></th> \n",
       "        <th class=\"col_heading level0 col0\" colspan=2>toxic</th> \n",
       "        <th class=\"col_heading level0 col2\" colspan=2>obscene</th> \n",
       "        <th class=\"col_heading level0 col4\" colspan=2>threat</th> \n",
       "        <th class=\"col_heading level0 col6\" colspan=2>insult</th> \n",
       "        <th class=\"col_heading level0 col8\" colspan=2>identity_hate</th> \n",
       "        <th class=\"col_heading level0 col10\" colspan=2>clean</th> \n",
       "    </tr>    <tr> \n",
       "        <th class=\"index_name level1\" >toxic</th> \n",
       "        <th class=\"col_heading level1 col0\" >0</th> \n",
       "        <th class=\"col_heading level1 col1\" >1</th> \n",
       "        <th class=\"col_heading level1 col2\" >0</th> \n",
       "        <th class=\"col_heading level1 col3\" >1</th> \n",
       "        <th class=\"col_heading level1 col4\" >0</th> \n",
       "        <th class=\"col_heading level1 col5\" >1</th> \n",
       "        <th class=\"col_heading level1 col6\" >0</th> \n",
       "        <th class=\"col_heading level1 col7\" >1</th> \n",
       "        <th class=\"col_heading level1 col8\" >0</th> \n",
       "        <th class=\"col_heading level1 col9\" >1</th> \n",
       "        <th class=\"col_heading level1 col10\" >0</th> \n",
       "        <th class=\"col_heading level1 col11\" >1</th> \n",
       "    </tr>    <tr> \n",
       "        <th class=\"index_name level0\" >severe_toxic</th> \n",
       "        <th class=\"blank\" ></th> \n",
       "        <th class=\"blank\" ></th> \n",
       "        <th class=\"blank\" ></th> \n",
       "        <th class=\"blank\" ></th> \n",
       "        <th class=\"blank\" ></th> \n",
       "        <th class=\"blank\" ></th> \n",
       "        <th class=\"blank\" ></th> \n",
       "        <th class=\"blank\" ></th> \n",
       "        <th class=\"blank\" ></th> \n",
       "        <th class=\"blank\" ></th> \n",
       "        <th class=\"blank\" ></th> \n",
       "        <th class=\"blank\" ></th> \n",
       "    </tr></thead> \n",
       "<tbody>    <tr> \n",
       "        <th id=\"T_5a672e50_3142_11e8_98a7_509a4c47a29f\" class=\"row_heading level0 row0\" >0</th> \n",
       "        <td id=\"T_5a672e50_3142_11e8_98a7_509a4c47a29frow0_col0\" class=\"data row0 col0\" >144277</td> \n",
       "        <td id=\"T_5a672e50_3142_11e8_98a7_509a4c47a29frow0_col1\" class=\"data row0 col1\" >13699</td> \n",
       "        <td id=\"T_5a672e50_3142_11e8_98a7_509a4c47a29frow0_col2\" class=\"data row0 col2\" >151044</td> \n",
       "        <td id=\"T_5a672e50_3142_11e8_98a7_509a4c47a29frow0_col3\" class=\"data row0 col3\" >6932</td> \n",
       "        <td id=\"T_5a672e50_3142_11e8_98a7_509a4c47a29frow0_col4\" class=\"data row0 col4\" >157610</td> \n",
       "        <td id=\"T_5a672e50_3142_11e8_98a7_509a4c47a29frow0_col5\" class=\"data row0 col5\" >366</td> \n",
       "        <td id=\"T_5a672e50_3142_11e8_98a7_509a4c47a29frow0_col6\" class=\"data row0 col6\" >151470</td> \n",
       "        <td id=\"T_5a672e50_3142_11e8_98a7_509a4c47a29frow0_col7\" class=\"data row0 col7\" >6506</td> \n",
       "        <td id=\"T_5a672e50_3142_11e8_98a7_509a4c47a29frow0_col8\" class=\"data row0 col8\" >156884</td> \n",
       "        <td id=\"T_5a672e50_3142_11e8_98a7_509a4c47a29frow0_col9\" class=\"data row0 col9\" >1092</td> \n",
       "        <td id=\"T_5a672e50_3142_11e8_98a7_509a4c47a29frow0_col10\" class=\"data row0 col10\" >14630</td> \n",
       "        <td id=\"T_5a672e50_3142_11e8_98a7_509a4c47a29frow0_col11\" class=\"data row0 col11\" >143346</td> \n",
       "    </tr>    <tr> \n",
       "        <th id=\"T_5a672e50_3142_11e8_98a7_509a4c47a29f\" class=\"row_heading level0 row1\" >1</th> \n",
       "        <td id=\"T_5a672e50_3142_11e8_98a7_509a4c47a29frow1_col0\" class=\"data row1 col0\" >0</td> \n",
       "        <td id=\"T_5a672e50_3142_11e8_98a7_509a4c47a29frow1_col1\" class=\"data row1 col1\" >1595</td> \n",
       "        <td id=\"T_5a672e50_3142_11e8_98a7_509a4c47a29frow1_col2\" class=\"data row1 col2\" >78</td> \n",
       "        <td id=\"T_5a672e50_3142_11e8_98a7_509a4c47a29frow1_col3\" class=\"data row1 col3\" >1517</td> \n",
       "        <td id=\"T_5a672e50_3142_11e8_98a7_509a4c47a29frow1_col4\" class=\"data row1 col4\" >1483</td> \n",
       "        <td id=\"T_5a672e50_3142_11e8_98a7_509a4c47a29frow1_col5\" class=\"data row1 col5\" >112</td> \n",
       "        <td id=\"T_5a672e50_3142_11e8_98a7_509a4c47a29frow1_col6\" class=\"data row1 col6\" >224</td> \n",
       "        <td id=\"T_5a672e50_3142_11e8_98a7_509a4c47a29frow1_col7\" class=\"data row1 col7\" >1371</td> \n",
       "        <td id=\"T_5a672e50_3142_11e8_98a7_509a4c47a29frow1_col8\" class=\"data row1 col8\" >1282</td> \n",
       "        <td id=\"T_5a672e50_3142_11e8_98a7_509a4c47a29frow1_col9\" class=\"data row1 col9\" >313</td> \n",
       "        <td id=\"T_5a672e50_3142_11e8_98a7_509a4c47a29frow1_col10\" class=\"data row1 col10\" >1595</td> \n",
       "        <td id=\"T_5a672e50_3142_11e8_98a7_509a4c47a29frow1_col11\" class=\"data row1 col11\" >0</td> \n",
       "    </tr></tbody> \n",
       "</table> "
      ],
      "text/plain": [
       "<pandas.io.formats.style.Styler at 0x257b74b5dd8>"
      ]
     },
     "execution_count": 16,
     "metadata": {},
     "output_type": "execute_result"
    }
   ],
   "source": [
    "main_col=\"severe_toxic\"\n",
    "corr_mats=[]\n",
    "keys=np.delete(temp_df.columns.values, 1)\n",
    "for other_col in keys:\n",
    "    confusion_matrix = pd.crosstab(temp_df[main_col], temp_df[other_col])\n",
    "    corr_mats.append(confusion_matrix)\n",
    "out = pd.concat(corr_mats, axis=1, keys=keys)\n",
    "out = out.style.apply(highlight_min,axis=0)\n",
    "out"
   ]
  },
  {
   "cell_type": "markdown",
   "metadata": {
    "_uuid": "caf6bf16681291e11d2be0789058b18596573a8b"
   },
   "source": [
    "Obscene labels have around a 50% chance of being labeled toxic, but only a 5% chance of being labelled severe_toxic."
   ]
  },
  {
   "cell_type": "code",
   "execution_count": 17,
   "metadata": {
    "_cell_guid": "e0a5cf2e-577e-4138-9ded-92f3d52b7e6a",
    "_uuid": "0c47f0bc471f447398187cc08b0f27798da9e417"
   },
   "outputs": [
    {
     "data": {
      "text/html": [
       "<style  type=\"text/css\" >\n",
       "    #T_5b233c18_3142_11e8_b082_509a4c47a29frow0_col1 {\n",
       "            background-color:  yellow;\n",
       "        }    #T_5b233c18_3142_11e8_b082_509a4c47a29frow0_col3 {\n",
       "            background-color:  yellow;\n",
       "        }    #T_5b233c18_3142_11e8_b082_509a4c47a29frow0_col5 {\n",
       "            background-color:  yellow;\n",
       "        }    #T_5b233c18_3142_11e8_b082_509a4c47a29frow0_col7 {\n",
       "            background-color:  yellow;\n",
       "        }    #T_5b233c18_3142_11e8_b082_509a4c47a29frow0_col9 {\n",
       "            background-color:  yellow;\n",
       "        }    #T_5b233c18_3142_11e8_b082_509a4c47a29frow0_col10 {\n",
       "            background-color:  yellow;\n",
       "        }    #T_5b233c18_3142_11e8_b082_509a4c47a29frow1_col0 {\n",
       "            background-color:  yellow;\n",
       "        }    #T_5b233c18_3142_11e8_b082_509a4c47a29frow1_col2 {\n",
       "            background-color:  yellow;\n",
       "        }    #T_5b233c18_3142_11e8_b082_509a4c47a29frow1_col4 {\n",
       "            background-color:  yellow;\n",
       "        }    #T_5b233c18_3142_11e8_b082_509a4c47a29frow1_col6 {\n",
       "            background-color:  yellow;\n",
       "        }    #T_5b233c18_3142_11e8_b082_509a4c47a29frow1_col8 {\n",
       "            background-color:  yellow;\n",
       "        }    #T_5b233c18_3142_11e8_b082_509a4c47a29frow1_col11 {\n",
       "            background-color:  yellow;\n",
       "        }</style>  \n",
       "<table id=\"T_5b233c18_3142_11e8_b082_509a4c47a29f\" > \n",
       "<thead>    <tr> \n",
       "        <th class=\"blank level0\" ></th> \n",
       "        <th class=\"col_heading level0 col0\" colspan=2>toxic</th> \n",
       "        <th class=\"col_heading level0 col2\" colspan=2>severe_toxic</th> \n",
       "        <th class=\"col_heading level0 col4\" colspan=2>threat</th> \n",
       "        <th class=\"col_heading level0 col6\" colspan=2>insult</th> \n",
       "        <th class=\"col_heading level0 col8\" colspan=2>identity_hate</th> \n",
       "        <th class=\"col_heading level0 col10\" colspan=2>clean</th> \n",
       "    </tr>    <tr> \n",
       "        <th class=\"index_name level1\" >toxic</th> \n",
       "        <th class=\"col_heading level1 col0\" >0</th> \n",
       "        <th class=\"col_heading level1 col1\" >1</th> \n",
       "        <th class=\"col_heading level1 col2\" >0</th> \n",
       "        <th class=\"col_heading level1 col3\" >1</th> \n",
       "        <th class=\"col_heading level1 col4\" >0</th> \n",
       "        <th class=\"col_heading level1 col5\" >1</th> \n",
       "        <th class=\"col_heading level1 col6\" >0</th> \n",
       "        <th class=\"col_heading level1 col7\" >1</th> \n",
       "        <th class=\"col_heading level1 col8\" >0</th> \n",
       "        <th class=\"col_heading level1 col9\" >1</th> \n",
       "        <th class=\"col_heading level1 col10\" >0</th> \n",
       "        <th class=\"col_heading level1 col11\" >1</th> \n",
       "    </tr>    <tr> \n",
       "        <th class=\"index_name level0\" >obscene</th> \n",
       "        <th class=\"blank\" ></th> \n",
       "        <th class=\"blank\" ></th> \n",
       "        <th class=\"blank\" ></th> \n",
       "        <th class=\"blank\" ></th> \n",
       "        <th class=\"blank\" ></th> \n",
       "        <th class=\"blank\" ></th> \n",
       "        <th class=\"blank\" ></th> \n",
       "        <th class=\"blank\" ></th> \n",
       "        <th class=\"blank\" ></th> \n",
       "        <th class=\"blank\" ></th> \n",
       "        <th class=\"blank\" ></th> \n",
       "        <th class=\"blank\" ></th> \n",
       "    </tr></thead> \n",
       "<tbody>    <tr> \n",
       "        <th id=\"T_5b233c18_3142_11e8_b082_509a4c47a29f\" class=\"row_heading level0 row0\" >0</th> \n",
       "        <td id=\"T_5b233c18_3142_11e8_b082_509a4c47a29frow0_col0\" class=\"data row0 col0\" >143754</td> \n",
       "        <td id=\"T_5b233c18_3142_11e8_b082_509a4c47a29frow0_col1\" class=\"data row0 col1\" >7368</td> \n",
       "        <td id=\"T_5b233c18_3142_11e8_b082_509a4c47a29frow0_col2\" class=\"data row0 col2\" >151044</td> \n",
       "        <td id=\"T_5b233c18_3142_11e8_b082_509a4c47a29frow0_col3\" class=\"data row0 col3\" >78</td> \n",
       "        <td id=\"T_5b233c18_3142_11e8_b082_509a4c47a29frow0_col4\" class=\"data row0 col4\" >150945</td> \n",
       "        <td id=\"T_5b233c18_3142_11e8_b082_509a4c47a29frow0_col5\" class=\"data row0 col5\" >177</td> \n",
       "        <td id=\"T_5b233c18_3142_11e8_b082_509a4c47a29frow0_col6\" class=\"data row0 col6\" >149400</td> \n",
       "        <td id=\"T_5b233c18_3142_11e8_b082_509a4c47a29frow0_col7\" class=\"data row0 col7\" >1722</td> \n",
       "        <td id=\"T_5b233c18_3142_11e8_b082_509a4c47a29frow0_col8\" class=\"data row0 col8\" >150749</td> \n",
       "        <td id=\"T_5b233c18_3142_11e8_b082_509a4c47a29frow0_col9\" class=\"data row0 col9\" >373</td> \n",
       "        <td id=\"T_5b233c18_3142_11e8_b082_509a4c47a29frow0_col10\" class=\"data row0 col10\" >7776</td> \n",
       "        <td id=\"T_5b233c18_3142_11e8_b082_509a4c47a29frow0_col11\" class=\"data row0 col11\" >143346</td> \n",
       "    </tr>    <tr> \n",
       "        <th id=\"T_5b233c18_3142_11e8_b082_509a4c47a29f\" class=\"row_heading level0 row1\" >1</th> \n",
       "        <td id=\"T_5b233c18_3142_11e8_b082_509a4c47a29frow1_col0\" class=\"data row1 col0\" >523</td> \n",
       "        <td id=\"T_5b233c18_3142_11e8_b082_509a4c47a29frow1_col1\" class=\"data row1 col1\" >7926</td> \n",
       "        <td id=\"T_5b233c18_3142_11e8_b082_509a4c47a29frow1_col2\" class=\"data row1 col2\" >6932</td> \n",
       "        <td id=\"T_5b233c18_3142_11e8_b082_509a4c47a29frow1_col3\" class=\"data row1 col3\" >1517</td> \n",
       "        <td id=\"T_5b233c18_3142_11e8_b082_509a4c47a29frow1_col4\" class=\"data row1 col4\" >8148</td> \n",
       "        <td id=\"T_5b233c18_3142_11e8_b082_509a4c47a29frow1_col5\" class=\"data row1 col5\" >301</td> \n",
       "        <td id=\"T_5b233c18_3142_11e8_b082_509a4c47a29frow1_col6\" class=\"data row1 col6\" >2294</td> \n",
       "        <td id=\"T_5b233c18_3142_11e8_b082_509a4c47a29frow1_col7\" class=\"data row1 col7\" >6155</td> \n",
       "        <td id=\"T_5b233c18_3142_11e8_b082_509a4c47a29frow1_col8\" class=\"data row1 col8\" >7417</td> \n",
       "        <td id=\"T_5b233c18_3142_11e8_b082_509a4c47a29frow1_col9\" class=\"data row1 col9\" >1032</td> \n",
       "        <td id=\"T_5b233c18_3142_11e8_b082_509a4c47a29frow1_col10\" class=\"data row1 col10\" >8449</td> \n",
       "        <td id=\"T_5b233c18_3142_11e8_b082_509a4c47a29frow1_col11\" class=\"data row1 col11\" >0</td> \n",
       "    </tr></tbody> \n",
       "</table> "
      ],
      "text/plain": [
       "<pandas.io.formats.style.Styler at 0x257b743ee48>"
      ]
     },
     "execution_count": 17,
     "metadata": {},
     "output_type": "execute_result"
    }
   ],
   "source": [
    "main_col=\"obscene\"\n",
    "corr_mats=[]\n",
    "keys=np.delete(temp_df.columns.values, 2)\n",
    "for other_col in keys:\n",
    "    confusion_matrix = pd.crosstab(temp_df[main_col], temp_df[other_col])\n",
    "    corr_mats.append(confusion_matrix)\n",
    "out = pd.concat(corr_mats, axis=1, keys=keys)\n",
    "out = out.style.apply(highlight_min,axis=0)\n",
    "out"
   ]
  },
  {
   "cell_type": "markdown",
   "metadata": {
    "_uuid": "ad226f90b138aaf50fa11a8f41f346e53e99ab71"
   },
   "source": [
    "Ah the threat column, one of the most misbehaved labels in the classifiers we'll develop. The cross tabulation shows that a comment labeled as a threat has a very low chance of being given another label. This, in combination with the relatively small number of samples (only 478!), may explain why it will end up being the most difficult label to predict."
   ]
  },
  {
   "cell_type": "code",
   "execution_count": 18,
   "metadata": {
    "_cell_guid": "21de6b13-ce6b-4531-80c9-5ce7b98ce2ed",
    "_uuid": "1367397c39abf64de2ca8b5c0d1b443615b87154"
   },
   "outputs": [
    {
     "data": {
      "text/html": [
       "<style  type=\"text/css\" >\n",
       "    #T_5c023558_3142_11e8_b8f9_509a4c47a29frow1_col0 {\n",
       "            background-color:  yellow;\n",
       "        }    #T_5c023558_3142_11e8_b8f9_509a4c47a29frow1_col1 {\n",
       "            background-color:  yellow;\n",
       "        }    #T_5c023558_3142_11e8_b8f9_509a4c47a29frow1_col2 {\n",
       "            background-color:  yellow;\n",
       "        }    #T_5c023558_3142_11e8_b8f9_509a4c47a29frow1_col3 {\n",
       "            background-color:  yellow;\n",
       "        }    #T_5c023558_3142_11e8_b8f9_509a4c47a29frow1_col4 {\n",
       "            background-color:  yellow;\n",
       "        }    #T_5c023558_3142_11e8_b8f9_509a4c47a29frow1_col5 {\n",
       "            background-color:  yellow;\n",
       "        }    #T_5c023558_3142_11e8_b8f9_509a4c47a29frow1_col6 {\n",
       "            background-color:  yellow;\n",
       "        }    #T_5c023558_3142_11e8_b8f9_509a4c47a29frow1_col7 {\n",
       "            background-color:  yellow;\n",
       "        }    #T_5c023558_3142_11e8_b8f9_509a4c47a29frow1_col8 {\n",
       "            background-color:  yellow;\n",
       "        }    #T_5c023558_3142_11e8_b8f9_509a4c47a29frow1_col9 {\n",
       "            background-color:  yellow;\n",
       "        }    #T_5c023558_3142_11e8_b8f9_509a4c47a29frow1_col10 {\n",
       "            background-color:  yellow;\n",
       "        }    #T_5c023558_3142_11e8_b8f9_509a4c47a29frow1_col11 {\n",
       "            background-color:  yellow;\n",
       "        }</style>  \n",
       "<table id=\"T_5c023558_3142_11e8_b8f9_509a4c47a29f\" > \n",
       "<thead>    <tr> \n",
       "        <th class=\"blank level0\" ></th> \n",
       "        <th class=\"col_heading level0 col0\" colspan=2>toxic</th> \n",
       "        <th class=\"col_heading level0 col2\" colspan=2>severe_toxic</th> \n",
       "        <th class=\"col_heading level0 col4\" colspan=2>obscene</th> \n",
       "        <th class=\"col_heading level0 col6\" colspan=2>insult</th> \n",
       "        <th class=\"col_heading level0 col8\" colspan=2>identity_hate</th> \n",
       "        <th class=\"col_heading level0 col10\" colspan=2>clean</th> \n",
       "    </tr>    <tr> \n",
       "        <th class=\"index_name level1\" >toxic</th> \n",
       "        <th class=\"col_heading level1 col0\" >0</th> \n",
       "        <th class=\"col_heading level1 col1\" >1</th> \n",
       "        <th class=\"col_heading level1 col2\" >0</th> \n",
       "        <th class=\"col_heading level1 col3\" >1</th> \n",
       "        <th class=\"col_heading level1 col4\" >0</th> \n",
       "        <th class=\"col_heading level1 col5\" >1</th> \n",
       "        <th class=\"col_heading level1 col6\" >0</th> \n",
       "        <th class=\"col_heading level1 col7\" >1</th> \n",
       "        <th class=\"col_heading level1 col8\" >0</th> \n",
       "        <th class=\"col_heading level1 col9\" >1</th> \n",
       "        <th class=\"col_heading level1 col10\" >0</th> \n",
       "        <th class=\"col_heading level1 col11\" >1</th> \n",
       "    </tr>    <tr> \n",
       "        <th class=\"index_name level0\" >threat</th> \n",
       "        <th class=\"blank\" ></th> \n",
       "        <th class=\"blank\" ></th> \n",
       "        <th class=\"blank\" ></th> \n",
       "        <th class=\"blank\" ></th> \n",
       "        <th class=\"blank\" ></th> \n",
       "        <th class=\"blank\" ></th> \n",
       "        <th class=\"blank\" ></th> \n",
       "        <th class=\"blank\" ></th> \n",
       "        <th class=\"blank\" ></th> \n",
       "        <th class=\"blank\" ></th> \n",
       "        <th class=\"blank\" ></th> \n",
       "        <th class=\"blank\" ></th> \n",
       "    </tr></thead> \n",
       "<tbody>    <tr> \n",
       "        <th id=\"T_5c023558_3142_11e8_b8f9_509a4c47a29f\" class=\"row_heading level0 row0\" >0</th> \n",
       "        <td id=\"T_5c023558_3142_11e8_b8f9_509a4c47a29frow0_col0\" class=\"data row0 col0\" >144248</td> \n",
       "        <td id=\"T_5c023558_3142_11e8_b8f9_509a4c47a29frow0_col1\" class=\"data row0 col1\" >14845</td> \n",
       "        <td id=\"T_5c023558_3142_11e8_b8f9_509a4c47a29frow0_col2\" class=\"data row0 col2\" >157610</td> \n",
       "        <td id=\"T_5c023558_3142_11e8_b8f9_509a4c47a29frow0_col3\" class=\"data row0 col3\" >1483</td> \n",
       "        <td id=\"T_5c023558_3142_11e8_b8f9_509a4c47a29frow0_col4\" class=\"data row0 col4\" >150945</td> \n",
       "        <td id=\"T_5c023558_3142_11e8_b8f9_509a4c47a29frow0_col5\" class=\"data row0 col5\" >8148</td> \n",
       "        <td id=\"T_5c023558_3142_11e8_b8f9_509a4c47a29frow0_col6\" class=\"data row0 col6\" >151523</td> \n",
       "        <td id=\"T_5c023558_3142_11e8_b8f9_509a4c47a29frow0_col7\" class=\"data row0 col7\" >7570</td> \n",
       "        <td id=\"T_5c023558_3142_11e8_b8f9_509a4c47a29frow0_col8\" class=\"data row0 col8\" >157786</td> \n",
       "        <td id=\"T_5c023558_3142_11e8_b8f9_509a4c47a29frow0_col9\" class=\"data row0 col9\" >1307</td> \n",
       "        <td id=\"T_5c023558_3142_11e8_b8f9_509a4c47a29frow0_col10\" class=\"data row0 col10\" >15747</td> \n",
       "        <td id=\"T_5c023558_3142_11e8_b8f9_509a4c47a29frow0_col11\" class=\"data row0 col11\" >143346</td> \n",
       "    </tr>    <tr> \n",
       "        <th id=\"T_5c023558_3142_11e8_b8f9_509a4c47a29f\" class=\"row_heading level0 row1\" >1</th> \n",
       "        <td id=\"T_5c023558_3142_11e8_b8f9_509a4c47a29frow1_col0\" class=\"data row1 col0\" >29</td> \n",
       "        <td id=\"T_5c023558_3142_11e8_b8f9_509a4c47a29frow1_col1\" class=\"data row1 col1\" >449</td> \n",
       "        <td id=\"T_5c023558_3142_11e8_b8f9_509a4c47a29frow1_col2\" class=\"data row1 col2\" >366</td> \n",
       "        <td id=\"T_5c023558_3142_11e8_b8f9_509a4c47a29frow1_col3\" class=\"data row1 col3\" >112</td> \n",
       "        <td id=\"T_5c023558_3142_11e8_b8f9_509a4c47a29frow1_col4\" class=\"data row1 col4\" >177</td> \n",
       "        <td id=\"T_5c023558_3142_11e8_b8f9_509a4c47a29frow1_col5\" class=\"data row1 col5\" >301</td> \n",
       "        <td id=\"T_5c023558_3142_11e8_b8f9_509a4c47a29frow1_col6\" class=\"data row1 col6\" >171</td> \n",
       "        <td id=\"T_5c023558_3142_11e8_b8f9_509a4c47a29frow1_col7\" class=\"data row1 col7\" >307</td> \n",
       "        <td id=\"T_5c023558_3142_11e8_b8f9_509a4c47a29frow1_col8\" class=\"data row1 col8\" >380</td> \n",
       "        <td id=\"T_5c023558_3142_11e8_b8f9_509a4c47a29frow1_col9\" class=\"data row1 col9\" >98</td> \n",
       "        <td id=\"T_5c023558_3142_11e8_b8f9_509a4c47a29frow1_col10\" class=\"data row1 col10\" >478</td> \n",
       "        <td id=\"T_5c023558_3142_11e8_b8f9_509a4c47a29frow1_col11\" class=\"data row1 col11\" >0</td> \n",
       "    </tr></tbody> \n",
       "</table> "
      ],
      "text/plain": [
       "<pandas.io.formats.style.Styler at 0x25788dbe2e8>"
      ]
     },
     "execution_count": 18,
     "metadata": {},
     "output_type": "execute_result"
    }
   ],
   "source": [
    "main_col=\"threat\"\n",
    "corr_mats=[]\n",
    "keys=np.delete(temp_df.columns.values, 3)\n",
    "for other_col in keys:\n",
    "    confusion_matrix = pd.crosstab(temp_df[main_col], temp_df[other_col])\n",
    "    corr_mats.append(confusion_matrix)\n",
    "out = pd.concat(corr_mats, axis=1, keys=keys)\n",
    "out = out.style.apply(highlight_min,axis=0)\n",
    "out"
   ]
  },
  {
   "cell_type": "markdown",
   "metadata": {
    "_uuid": "32a61ed7aacb679b43a4fd99ccb646c1346f0c26"
   },
   "source": [
    "Although insults are only about 50-50 with toxic, they are highly correlated with every other label. "
   ]
  },
  {
   "cell_type": "code",
   "execution_count": 19,
   "metadata": {
    "_cell_guid": "9b48f95d-eec4-4d5e-9bd3-5b3a007d344a",
    "_uuid": "b64dcb467afe35eced5db520b9e85f5cae8aa269"
   },
   "outputs": [
    {
     "data": {
      "text/html": [
       "<style  type=\"text/css\" >\n",
       "    #T_5cc7a018_3142_11e8_9aea_509a4c47a29frow0_col3 {\n",
       "            background-color:  yellow;\n",
       "        }    #T_5cc7a018_3142_11e8_9aea_509a4c47a29frow0_col5 {\n",
       "            background-color:  yellow;\n",
       "        }    #T_5cc7a018_3142_11e8_9aea_509a4c47a29frow0_col7 {\n",
       "            background-color:  yellow;\n",
       "        }    #T_5cc7a018_3142_11e8_9aea_509a4c47a29frow0_col9 {\n",
       "            background-color:  yellow;\n",
       "        }    #T_5cc7a018_3142_11e8_9aea_509a4c47a29frow1_col0 {\n",
       "            background-color:  yellow;\n",
       "        }    #T_5cc7a018_3142_11e8_9aea_509a4c47a29frow1_col1 {\n",
       "            background-color:  yellow;\n",
       "        }    #T_5cc7a018_3142_11e8_9aea_509a4c47a29frow1_col2 {\n",
       "            background-color:  yellow;\n",
       "        }    #T_5cc7a018_3142_11e8_9aea_509a4c47a29frow1_col4 {\n",
       "            background-color:  yellow;\n",
       "        }    #T_5cc7a018_3142_11e8_9aea_509a4c47a29frow1_col6 {\n",
       "            background-color:  yellow;\n",
       "        }    #T_5cc7a018_3142_11e8_9aea_509a4c47a29frow1_col8 {\n",
       "            background-color:  yellow;\n",
       "        }    #T_5cc7a018_3142_11e8_9aea_509a4c47a29frow1_col10 {\n",
       "            background-color:  yellow;\n",
       "        }    #T_5cc7a018_3142_11e8_9aea_509a4c47a29frow1_col11 {\n",
       "            background-color:  yellow;\n",
       "        }</style>  \n",
       "<table id=\"T_5cc7a018_3142_11e8_9aea_509a4c47a29f\" > \n",
       "<thead>    <tr> \n",
       "        <th class=\"blank level0\" ></th> \n",
       "        <th class=\"col_heading level0 col0\" colspan=2>toxic</th> \n",
       "        <th class=\"col_heading level0 col2\" colspan=2>severe_toxic</th> \n",
       "        <th class=\"col_heading level0 col4\" colspan=2>obscene</th> \n",
       "        <th class=\"col_heading level0 col6\" colspan=2>threat</th> \n",
       "        <th class=\"col_heading level0 col8\" colspan=2>identity_hate</th> \n",
       "        <th class=\"col_heading level0 col10\" colspan=2>clean</th> \n",
       "    </tr>    <tr> \n",
       "        <th class=\"index_name level1\" >toxic</th> \n",
       "        <th class=\"col_heading level1 col0\" >0</th> \n",
       "        <th class=\"col_heading level1 col1\" >1</th> \n",
       "        <th class=\"col_heading level1 col2\" >0</th> \n",
       "        <th class=\"col_heading level1 col3\" >1</th> \n",
       "        <th class=\"col_heading level1 col4\" >0</th> \n",
       "        <th class=\"col_heading level1 col5\" >1</th> \n",
       "        <th class=\"col_heading level1 col6\" >0</th> \n",
       "        <th class=\"col_heading level1 col7\" >1</th> \n",
       "        <th class=\"col_heading level1 col8\" >0</th> \n",
       "        <th class=\"col_heading level1 col9\" >1</th> \n",
       "        <th class=\"col_heading level1 col10\" >0</th> \n",
       "        <th class=\"col_heading level1 col11\" >1</th> \n",
       "    </tr>    <tr> \n",
       "        <th class=\"index_name level0\" >insult</th> \n",
       "        <th class=\"blank\" ></th> \n",
       "        <th class=\"blank\" ></th> \n",
       "        <th class=\"blank\" ></th> \n",
       "        <th class=\"blank\" ></th> \n",
       "        <th class=\"blank\" ></th> \n",
       "        <th class=\"blank\" ></th> \n",
       "        <th class=\"blank\" ></th> \n",
       "        <th class=\"blank\" ></th> \n",
       "        <th class=\"blank\" ></th> \n",
       "        <th class=\"blank\" ></th> \n",
       "        <th class=\"blank\" ></th> \n",
       "        <th class=\"blank\" ></th> \n",
       "    </tr></thead> \n",
       "<tbody>    <tr> \n",
       "        <th id=\"T_5cc7a018_3142_11e8_9aea_509a4c47a29f\" class=\"row_heading level0 row0\" >0</th> \n",
       "        <td id=\"T_5cc7a018_3142_11e8_9aea_509a4c47a29frow0_col0\" class=\"data row0 col0\" >143744</td> \n",
       "        <td id=\"T_5cc7a018_3142_11e8_9aea_509a4c47a29frow0_col1\" class=\"data row0 col1\" >7950</td> \n",
       "        <td id=\"T_5cc7a018_3142_11e8_9aea_509a4c47a29frow0_col2\" class=\"data row0 col2\" >151470</td> \n",
       "        <td id=\"T_5cc7a018_3142_11e8_9aea_509a4c47a29frow0_col3\" class=\"data row0 col3\" >224</td> \n",
       "        <td id=\"T_5cc7a018_3142_11e8_9aea_509a4c47a29frow0_col4\" class=\"data row0 col4\" >149400</td> \n",
       "        <td id=\"T_5cc7a018_3142_11e8_9aea_509a4c47a29frow0_col5\" class=\"data row0 col5\" >2294</td> \n",
       "        <td id=\"T_5cc7a018_3142_11e8_9aea_509a4c47a29frow0_col6\" class=\"data row0 col6\" >151523</td> \n",
       "        <td id=\"T_5cc7a018_3142_11e8_9aea_509a4c47a29frow0_col7\" class=\"data row0 col7\" >171</td> \n",
       "        <td id=\"T_5cc7a018_3142_11e8_9aea_509a4c47a29frow0_col8\" class=\"data row0 col8\" >151449</td> \n",
       "        <td id=\"T_5cc7a018_3142_11e8_9aea_509a4c47a29frow0_col9\" class=\"data row0 col9\" >245</td> \n",
       "        <td id=\"T_5cc7a018_3142_11e8_9aea_509a4c47a29frow0_col10\" class=\"data row0 col10\" >8348</td> \n",
       "        <td id=\"T_5cc7a018_3142_11e8_9aea_509a4c47a29frow0_col11\" class=\"data row0 col11\" >143346</td> \n",
       "    </tr>    <tr> \n",
       "        <th id=\"T_5cc7a018_3142_11e8_9aea_509a4c47a29f\" class=\"row_heading level0 row1\" >1</th> \n",
       "        <td id=\"T_5cc7a018_3142_11e8_9aea_509a4c47a29frow1_col0\" class=\"data row1 col0\" >533</td> \n",
       "        <td id=\"T_5cc7a018_3142_11e8_9aea_509a4c47a29frow1_col1\" class=\"data row1 col1\" >7344</td> \n",
       "        <td id=\"T_5cc7a018_3142_11e8_9aea_509a4c47a29frow1_col2\" class=\"data row1 col2\" >6506</td> \n",
       "        <td id=\"T_5cc7a018_3142_11e8_9aea_509a4c47a29frow1_col3\" class=\"data row1 col3\" >1371</td> \n",
       "        <td id=\"T_5cc7a018_3142_11e8_9aea_509a4c47a29frow1_col4\" class=\"data row1 col4\" >1722</td> \n",
       "        <td id=\"T_5cc7a018_3142_11e8_9aea_509a4c47a29frow1_col5\" class=\"data row1 col5\" >6155</td> \n",
       "        <td id=\"T_5cc7a018_3142_11e8_9aea_509a4c47a29frow1_col6\" class=\"data row1 col6\" >7570</td> \n",
       "        <td id=\"T_5cc7a018_3142_11e8_9aea_509a4c47a29frow1_col7\" class=\"data row1 col7\" >307</td> \n",
       "        <td id=\"T_5cc7a018_3142_11e8_9aea_509a4c47a29frow1_col8\" class=\"data row1 col8\" >6717</td> \n",
       "        <td id=\"T_5cc7a018_3142_11e8_9aea_509a4c47a29frow1_col9\" class=\"data row1 col9\" >1160</td> \n",
       "        <td id=\"T_5cc7a018_3142_11e8_9aea_509a4c47a29frow1_col10\" class=\"data row1 col10\" >7877</td> \n",
       "        <td id=\"T_5cc7a018_3142_11e8_9aea_509a4c47a29frow1_col11\" class=\"data row1 col11\" >0</td> \n",
       "    </tr></tbody> \n",
       "</table> "
      ],
      "text/plain": [
       "<pandas.io.formats.style.Styler at 0x257b9c3b9b0>"
      ]
     },
     "execution_count": 19,
     "metadata": {},
     "output_type": "execute_result"
    }
   ],
   "source": [
    "main_col=\"insult\"\n",
    "corr_mats=[]\n",
    "keys=np.delete(temp_df.columns.values, 4)\n",
    "for other_col in keys:\n",
    "    confusion_matrix = pd.crosstab(temp_df[main_col], temp_df[other_col])\n",
    "    corr_mats.append(confusion_matrix)\n",
    "out = pd.concat(corr_mats, axis=1, keys=keys)\n",
    "out = out.style.apply(highlight_min,axis=0)\n",
    "out"
   ]
  },
  {
   "cell_type": "markdown",
   "metadata": {
    "_cell_guid": "924f84c5-0983-4c92-a073-9540c136c957",
    "_uuid": "ff7f9511920e11b30acd29de8802571329e91c32"
   },
   "source": [
    "Likewise, if a comment is labeled 'identity hate' it has a very strong chance of being labeled 'toxic', 'obscene', and 'insulting'. This doesn't seem to be represented very well in the Pearson correlation however."
   ]
  },
  {
   "cell_type": "code",
   "execution_count": 20,
   "metadata": {
    "_cell_guid": "0715b1ea-3602-4166-829a-f03c8d3dad9a",
    "_uuid": "03994eb066e378f1eb7f1b0be85255a1a23a3e6d"
   },
   "outputs": [
    {
     "data": {
      "text/html": [
       "<style  type=\"text/css\" >\n",
       "    #T_5dbca7de_3142_11e8_8297_509a4c47a29frow1_col0 {\n",
       "            background-color:  yellow;\n",
       "        }    #T_5dbca7de_3142_11e8_8297_509a4c47a29frow1_col1 {\n",
       "            background-color:  yellow;\n",
       "        }    #T_5dbca7de_3142_11e8_8297_509a4c47a29frow1_col2 {\n",
       "            background-color:  yellow;\n",
       "        }    #T_5dbca7de_3142_11e8_8297_509a4c47a29frow1_col3 {\n",
       "            background-color:  yellow;\n",
       "        }    #T_5dbca7de_3142_11e8_8297_509a4c47a29frow1_col4 {\n",
       "            background-color:  yellow;\n",
       "        }    #T_5dbca7de_3142_11e8_8297_509a4c47a29frow1_col5 {\n",
       "            background-color:  yellow;\n",
       "        }    #T_5dbca7de_3142_11e8_8297_509a4c47a29frow1_col6 {\n",
       "            background-color:  yellow;\n",
       "        }    #T_5dbca7de_3142_11e8_8297_509a4c47a29frow1_col7 {\n",
       "            background-color:  yellow;\n",
       "        }    #T_5dbca7de_3142_11e8_8297_509a4c47a29frow1_col8 {\n",
       "            background-color:  yellow;\n",
       "        }    #T_5dbca7de_3142_11e8_8297_509a4c47a29frow1_col9 {\n",
       "            background-color:  yellow;\n",
       "        }    #T_5dbca7de_3142_11e8_8297_509a4c47a29frow1_col10 {\n",
       "            background-color:  yellow;\n",
       "        }    #T_5dbca7de_3142_11e8_8297_509a4c47a29frow1_col11 {\n",
       "            background-color:  yellow;\n",
       "        }</style>  \n",
       "<table id=\"T_5dbca7de_3142_11e8_8297_509a4c47a29f\" > \n",
       "<thead>    <tr> \n",
       "        <th class=\"blank level0\" ></th> \n",
       "        <th class=\"col_heading level0 col0\" colspan=2>toxic</th> \n",
       "        <th class=\"col_heading level0 col2\" colspan=2>severe_toxic</th> \n",
       "        <th class=\"col_heading level0 col4\" colspan=2>obscene</th> \n",
       "        <th class=\"col_heading level0 col6\" colspan=2>threat</th> \n",
       "        <th class=\"col_heading level0 col8\" colspan=2>insult</th> \n",
       "        <th class=\"col_heading level0 col10\" colspan=2>clean</th> \n",
       "    </tr>    <tr> \n",
       "        <th class=\"index_name level1\" >toxic</th> \n",
       "        <th class=\"col_heading level1 col0\" >0</th> \n",
       "        <th class=\"col_heading level1 col1\" >1</th> \n",
       "        <th class=\"col_heading level1 col2\" >0</th> \n",
       "        <th class=\"col_heading level1 col3\" >1</th> \n",
       "        <th class=\"col_heading level1 col4\" >0</th> \n",
       "        <th class=\"col_heading level1 col5\" >1</th> \n",
       "        <th class=\"col_heading level1 col6\" >0</th> \n",
       "        <th class=\"col_heading level1 col7\" >1</th> \n",
       "        <th class=\"col_heading level1 col8\" >0</th> \n",
       "        <th class=\"col_heading level1 col9\" >1</th> \n",
       "        <th class=\"col_heading level1 col10\" >0</th> \n",
       "        <th class=\"col_heading level1 col11\" >1</th> \n",
       "    </tr>    <tr> \n",
       "        <th class=\"index_name level0\" >identity_hate</th> \n",
       "        <th class=\"blank\" ></th> \n",
       "        <th class=\"blank\" ></th> \n",
       "        <th class=\"blank\" ></th> \n",
       "        <th class=\"blank\" ></th> \n",
       "        <th class=\"blank\" ></th> \n",
       "        <th class=\"blank\" ></th> \n",
       "        <th class=\"blank\" ></th> \n",
       "        <th class=\"blank\" ></th> \n",
       "        <th class=\"blank\" ></th> \n",
       "        <th class=\"blank\" ></th> \n",
       "        <th class=\"blank\" ></th> \n",
       "        <th class=\"blank\" ></th> \n",
       "    </tr></thead> \n",
       "<tbody>    <tr> \n",
       "        <th id=\"T_5dbca7de_3142_11e8_8297_509a4c47a29f\" class=\"row_heading level0 row0\" >0</th> \n",
       "        <td id=\"T_5dbca7de_3142_11e8_8297_509a4c47a29frow0_col0\" class=\"data row0 col0\" >144174</td> \n",
       "        <td id=\"T_5dbca7de_3142_11e8_8297_509a4c47a29frow0_col1\" class=\"data row0 col1\" >13992</td> \n",
       "        <td id=\"T_5dbca7de_3142_11e8_8297_509a4c47a29frow0_col2\" class=\"data row0 col2\" >156884</td> \n",
       "        <td id=\"T_5dbca7de_3142_11e8_8297_509a4c47a29frow0_col3\" class=\"data row0 col3\" >1282</td> \n",
       "        <td id=\"T_5dbca7de_3142_11e8_8297_509a4c47a29frow0_col4\" class=\"data row0 col4\" >150749</td> \n",
       "        <td id=\"T_5dbca7de_3142_11e8_8297_509a4c47a29frow0_col5\" class=\"data row0 col5\" >7417</td> \n",
       "        <td id=\"T_5dbca7de_3142_11e8_8297_509a4c47a29frow0_col6\" class=\"data row0 col6\" >157786</td> \n",
       "        <td id=\"T_5dbca7de_3142_11e8_8297_509a4c47a29frow0_col7\" class=\"data row0 col7\" >380</td> \n",
       "        <td id=\"T_5dbca7de_3142_11e8_8297_509a4c47a29frow0_col8\" class=\"data row0 col8\" >151449</td> \n",
       "        <td id=\"T_5dbca7de_3142_11e8_8297_509a4c47a29frow0_col9\" class=\"data row0 col9\" >6717</td> \n",
       "        <td id=\"T_5dbca7de_3142_11e8_8297_509a4c47a29frow0_col10\" class=\"data row0 col10\" >14820</td> \n",
       "        <td id=\"T_5dbca7de_3142_11e8_8297_509a4c47a29frow0_col11\" class=\"data row0 col11\" >143346</td> \n",
       "    </tr>    <tr> \n",
       "        <th id=\"T_5dbca7de_3142_11e8_8297_509a4c47a29f\" class=\"row_heading level0 row1\" >1</th> \n",
       "        <td id=\"T_5dbca7de_3142_11e8_8297_509a4c47a29frow1_col0\" class=\"data row1 col0\" >103</td> \n",
       "        <td id=\"T_5dbca7de_3142_11e8_8297_509a4c47a29frow1_col1\" class=\"data row1 col1\" >1302</td> \n",
       "        <td id=\"T_5dbca7de_3142_11e8_8297_509a4c47a29frow1_col2\" class=\"data row1 col2\" >1092</td> \n",
       "        <td id=\"T_5dbca7de_3142_11e8_8297_509a4c47a29frow1_col3\" class=\"data row1 col3\" >313</td> \n",
       "        <td id=\"T_5dbca7de_3142_11e8_8297_509a4c47a29frow1_col4\" class=\"data row1 col4\" >373</td> \n",
       "        <td id=\"T_5dbca7de_3142_11e8_8297_509a4c47a29frow1_col5\" class=\"data row1 col5\" >1032</td> \n",
       "        <td id=\"T_5dbca7de_3142_11e8_8297_509a4c47a29frow1_col6\" class=\"data row1 col6\" >1307</td> \n",
       "        <td id=\"T_5dbca7de_3142_11e8_8297_509a4c47a29frow1_col7\" class=\"data row1 col7\" >98</td> \n",
       "        <td id=\"T_5dbca7de_3142_11e8_8297_509a4c47a29frow1_col8\" class=\"data row1 col8\" >245</td> \n",
       "        <td id=\"T_5dbca7de_3142_11e8_8297_509a4c47a29frow1_col9\" class=\"data row1 col9\" >1160</td> \n",
       "        <td id=\"T_5dbca7de_3142_11e8_8297_509a4c47a29frow1_col10\" class=\"data row1 col10\" >1405</td> \n",
       "        <td id=\"T_5dbca7de_3142_11e8_8297_509a4c47a29frow1_col11\" class=\"data row1 col11\" >0</td> \n",
       "    </tr></tbody> \n",
       "</table> "
      ],
      "text/plain": [
       "<pandas.io.formats.style.Styler at 0x257b70ed588>"
      ]
     },
     "execution_count": 20,
     "metadata": {},
     "output_type": "execute_result"
    }
   ],
   "source": [
    "main_col=\"identity_hate\"\n",
    "corr_mats=[]\n",
    "keys=np.delete(temp_df.columns.values, 5)\n",
    "for other_col in keys:\n",
    "    confusion_matrix = pd.crosstab(temp_df[main_col], temp_df[other_col])\n",
    "    corr_mats.append(confusion_matrix)\n",
    "out = pd.concat(corr_mats, axis=1, keys=keys)\n",
    "out = out.style.apply(highlight_min,axis=0)\n",
    "out"
   ]
  },
  {
   "cell_type": "code",
   "execution_count": null,
   "metadata": {
    "collapsed": true
   },
   "outputs": [],
   "source": []
  }
 ],
 "metadata": {
  "kernelspec": {
   "display_name": "Python 3",
   "language": "python",
   "name": "python3"
  }
 },
 "nbformat": 4,
 "nbformat_minor": 1
}
